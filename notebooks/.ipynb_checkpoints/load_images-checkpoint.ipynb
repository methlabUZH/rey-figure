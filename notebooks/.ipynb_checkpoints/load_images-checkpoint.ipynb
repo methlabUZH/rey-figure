{
 "cells": [
  {
   "cell_type": "code",
   "execution_count": 13,
   "id": "51334571",
   "metadata": {},
   "outputs": [],
   "source": [
    "import cv2\n",
    "from matplotlib import pyplot as plt\n",
    "import numpy as np\n",
    "\n",
    "from skimage.color import rgb2gray as skimage_rgb2gray\n",
    "from skimage.morphology import erosion as skimage_erosion\n",
    "from skimage.exposure import adjust_gamma as skimage_agjust_gamma\n",
    "from skimage.transform import resize\n",
    "\n",
    "%matplotlib inline"
   ]
  },
  {
   "cell_type": "code",
   "execution_count": 11,
   "id": "58ff678c",
   "metadata": {},
   "outputs": [],
   "source": [
    "CANVAS_SIZE = (116, 150)"
   ]
  },
  {
   "cell_type": "code",
   "execution_count": 7,
   "id": "a6620c92",
   "metadata": {},
   "outputs": [],
   "source": [
    "def resize_padded(img, new_shape, fill_cval=None, order=1, anti_alias=True):\n",
    "    if fill_cval is None:\n",
    "        fill_cval = np.max(img)\n",
    "\n",
    "    ratio = np.min([n / i for n, i in zip(new_shape, img.shape)])\n",
    "    interm_shape = np.rint([s * ratio / 2 for s in img.shape]).astype(np.int) * 2\n",
    "    interm_img = resize(img, interm_shape, order=order, cval=fill_cval, anti_aliasing=anti_alias, mode='constant')\n",
    "\n",
    "    new_img = np.empty(new_shape, dtype=interm_img.dtype)\n",
    "    new_img.fill(fill_cval)\n",
    "\n",
    "    pad = [(n - s) >> 1 for n, s in zip(new_shape, interm_shape)]\n",
    "    new_img[[slice(p, -p, None) if 0 != p else slice(None, None, None)\n",
    "             for p in pad]] = interm_img\n",
    "\n",
    "    return new_img"
   ]
  },
  {
   "cell_type": "code",
   "execution_count": 8,
   "id": "07bbfe95",
   "metadata": {},
   "outputs": [],
   "source": [
    "def cutdown(img, threshold=0.94):\n",
    "    threshold = threshold + 10 * np.finfo(float).eps\n",
    "    i = 0\n",
    "    while np.min(img[i, :]) > threshold:\n",
    "        i = i + 1\n",
    "        if i >= np.shape(img)[0]:\n",
    "            i = 0\n",
    "            break\n",
    "    img = img[i:, :]\n",
    "\n",
    "    i = 0\n",
    "    while np.min(img[np.shape(img)[0] - 1 - i, :]) > threshold:\n",
    "        i = i + 1\n",
    "        if i >= np.shape(img)[0]:\n",
    "            i = 0\n",
    "            break\n",
    "    img = img[0:np.shape(img)[0] - i, :]\n",
    "\n",
    "    i = 0\n",
    "    while np.min(img[:, i]) > threshold:\n",
    "        i = i + 1\n",
    "        if i >= np.shape(img)[1]:\n",
    "            i = 0\n",
    "            break\n",
    "    img = img[:, i:]\n",
    "\n",
    "    i = 0\n",
    "    while np.min(img[:, np.shape(img)[1] - 1 - i]) > threshold:\n",
    "        i = i + 1\n",
    "        if i >= np.shape(img)[1]:\n",
    "            i = 0\n",
    "            break\n",
    "    img = img[:, 0:np.shape(img)[1] - i]\n",
    "\n",
    "    return img"
   ]
  },
  {
   "cell_type": "code",
   "execution_count": 9,
   "id": "cb7d3bd3",
   "metadata": {},
   "outputs": [],
   "source": [
    "def preprocess_image(image):\n",
    "    # convert to grayscale\n",
    "    print(np.min(image), np.max(image))\n",
    "    image_preprocessed = skimage_rgb2gray(image)\n",
    "    print(np.min(image_preprocessed), np.max(image_preprocessed))\n",
    "\n",
    "    # gamma correction\n",
    "    image_preprocessed = skimage_erosion(image_preprocessed)\n",
    "    print(np.min(image_preprocessed), np.max(image_preprocessed))\n",
    "    image_preprocessed = skimage_agjust_gamma(image_preprocessed)\n",
    "    print(np.min(image_preprocessed), np.max(image_preprocessed))\n",
    "\n",
    "    # cutdown\n",
    "    image_preprocessed = cutdown(img=image_preprocessed, threshold=np.percentile(image_preprocessed, 4))\n",
    "    print(np.min(image_preprocessed), np.max(image_preprocessed))\n",
    "    thresh_white = np.percentile(image_preprocessed, 8)\n",
    "    image_preprocessed[image_preprocessed > thresh_white] = 1.0\n",
    "    print(np.min(image_preprocessed), np.max(image_preprocessed))\n",
    "\n",
    "    # resize\n",
    "    image_preprocessed = resize_padded(image_preprocessed, new_shape=CANVAS_SIZE)\n",
    "    print(np.min(image_preprocessed), np.max(image_preprocessed))\n",
    "\n",
    "    return image_preprocessed"
   ]
  },
  {
   "cell_type": "code",
   "execution_count": 2,
   "id": "1ae0be92",
   "metadata": {},
   "outputs": [],
   "source": [
    "image_file = './images/Colombia008_f4_NaN.jpg'"
   ]
  },
  {
   "cell_type": "code",
   "execution_count": 14,
   "id": "e8160812",
   "metadata": {},
   "outputs": [
    {
     "name": "stderr",
     "output_type": "stream",
     "text": [
      "<ipython-input-7-bf724e452aaa>:6: DeprecationWarning: `np.int` is a deprecated alias for the builtin `int`. To silence this warning, use `int` by itself. Doing this will not modify any behavior and is safe. When replacing `np.int`, you may wish to use e.g. `np.int64` or `np.int32` to specify the precision. If you wish to review your current use, check the release note link for additional information.\n",
      "Deprecated in NumPy 1.20; for more details and guidance: https://numpy.org/devdocs/release/1.20.0-notes.html#deprecations\n",
      "  interm_shape = np.rint([s * ratio / 2 for s in img.shape]).astype(np.int) * 2\n",
      "<ipython-input-7-bf724e452aaa>:13: FutureWarning: Using a non-tuple sequence for multidimensional indexing is deprecated; use `arr[tuple(seq)]` instead of `arr[seq]`. In the future this will be interpreted as an array index, `arr[np.array(seq)]`, which will result either in an error or a different result.\n",
      "  new_img[[slice(p, -p, None) if 0 != p else slice(None, None, None)\n"
     ]
    }
   ],
   "source": [
    "image = cv2.imread(image_file)\n",
    "image = preprocess_image(image)"
   ]
  },
  {
   "cell_type": "code",
   "execution_count": 18,
   "id": "c38a6af1",
   "metadata": {
    "scrolled": false
   },
   "outputs": [
    {
     "name": "stdout",
     "output_type": "stream",
     "text": [
      "0.5121420813064617\n",
      "1.0\n"
     ]
    }
   ],
   "source": [
    "print(np.min(image))\n",
    "print(np.max(image))"
   ]
  },
  {
   "cell_type": "code",
   "execution_count": null,
   "id": "fe037df4",
   "metadata": {},
   "outputs": [],
   "source": []
  },
  {
   "cell_type": "code",
   "execution_count": null,
   "id": "5235582a",
   "metadata": {},
   "outputs": [],
   "source": []
  },
  {
   "cell_type": "code",
   "execution_count": null,
   "id": "94927fee",
   "metadata": {},
   "outputs": [],
   "source": []
  },
  {
   "cell_type": "code",
   "execution_count": null,
   "id": "e9e88d3c",
   "metadata": {},
   "outputs": [],
   "source": []
  },
  {
   "cell_type": "code",
   "execution_count": null,
   "id": "5ecb20fd",
   "metadata": {},
   "outputs": [],
   "source": []
  },
  {
   "cell_type": "code",
   "execution_count": null,
   "id": "8af223e8",
   "metadata": {},
   "outputs": [],
   "source": []
  },
  {
   "cell_type": "code",
   "execution_count": null,
   "id": "248e5308",
   "metadata": {},
   "outputs": [],
   "source": []
  },
  {
   "cell_type": "code",
   "execution_count": null,
   "id": "7512e3f2",
   "metadata": {},
   "outputs": [],
   "source": []
  },
  {
   "cell_type": "code",
   "execution_count": null,
   "id": "20162dfa",
   "metadata": {},
   "outputs": [],
   "source": []
  },
  {
   "cell_type": "code",
   "execution_count": null,
   "id": "ca4ce4ed",
   "metadata": {},
   "outputs": [],
   "source": []
  },
  {
   "cell_type": "code",
   "execution_count": null,
   "id": "14a4116f",
   "metadata": {},
   "outputs": [],
   "source": []
  },
  {
   "cell_type": "code",
   "execution_count": null,
   "id": "49b41236",
   "metadata": {},
   "outputs": [],
   "source": []
  },
  {
   "cell_type": "code",
   "execution_count": null,
   "id": "d571c7e2",
   "metadata": {},
   "outputs": [],
   "source": []
  },
  {
   "cell_type": "code",
   "execution_count": null,
   "id": "8a169d8f",
   "metadata": {},
   "outputs": [],
   "source": []
  },
  {
   "cell_type": "code",
   "execution_count": null,
   "id": "e762f491",
   "metadata": {},
   "outputs": [],
   "source": []
  },
  {
   "cell_type": "code",
   "execution_count": null,
   "id": "cc0898ad",
   "metadata": {},
   "outputs": [],
   "source": []
  },
  {
   "cell_type": "code",
   "execution_count": null,
   "id": "8964b9bd",
   "metadata": {},
   "outputs": [],
   "source": []
  },
  {
   "cell_type": "code",
   "execution_count": null,
   "id": "6f827519",
   "metadata": {},
   "outputs": [],
   "source": []
  },
  {
   "cell_type": "code",
   "execution_count": null,
   "id": "52682803",
   "metadata": {},
   "outputs": [],
   "source": []
  },
  {
   "cell_type": "code",
   "execution_count": null,
   "id": "d91d5cea",
   "metadata": {},
   "outputs": [],
   "source": []
  }
 ],
 "metadata": {
  "kernelspec": {
   "display_name": "Python 3",
   "language": "python",
   "name": "python3"
  },
  "language_info": {
   "codemirror_mode": {
    "name": "ipython",
    "version": 3
   },
   "file_extension": ".py",
   "mimetype": "text/x-python",
   "name": "python",
   "nbconvert_exporter": "python",
   "pygments_lexer": "ipython3",
   "version": "3.9.5"
  }
 },
 "nbformat": 4,
 "nbformat_minor": 5
}
